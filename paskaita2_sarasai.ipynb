{
 "cells": [
  {
   "attachments": {},
   "cell_type": "markdown",
   "metadata": {},
   "source": [
    "## sarasai\n"
   ]
  },
  {
   "cell_type": "code",
   "execution_count": 2,
   "metadata": {},
   "outputs": [
    {
     "data": {
      "text/plain": [
       "[]"
      ]
     },
     "execution_count": 2,
     "metadata": {},
     "output_type": "execute_result"
    }
   ],
   "source": [
    "tuscias = []\n",
    "tuscias\n",
    "# tuscias sarasas"
   ]
  },
  {
   "cell_type": "code",
   "execution_count": 3,
   "metadata": {},
   "outputs": [
    {
     "data": {
      "text/plain": [
       "[5, 7, 3, 1, 11, 9, 3, 13]"
      ]
     },
     "execution_count": 3,
     "metadata": {},
     "output_type": "execute_result"
    }
   ],
   "source": [
    "sarasas = [5, 7, 3, 1, 11, 9, 3, 13]\n",
    "sarasas"
   ]
  },
  {
   "cell_type": "code",
   "execution_count": 4,
   "metadata": {},
   "outputs": [
    {
     "data": {
      "text/plain": [
       "['labas', 'rytas', 'studemtai']"
      ]
     },
     "execution_count": 4,
     "metadata": {},
     "output_type": "execute_result"
    }
   ],
   "source": [
    "zodziai =[\"labas\", \"rytas\", \"studemtai\"]\n",
    "zodziai"
   ]
  },
  {
   "cell_type": "code",
   "execution_count": 4,
   "metadata": {},
   "outputs": [
    {
     "data": {
      "text/plain": [
       "'labas rytas studemtai'"
      ]
     },
     "execution_count": 4,
     "metadata": {},
     "output_type": "execute_result"
    }
   ],
   "source": [
    "tarpas =\" \"\n",
    "tarpas.join(zodziai)\n",
    "# atvirkstinis split"
   ]
  },
  {
   "cell_type": "code",
   "execution_count": 5,
   "metadata": {},
   "outputs": [
    {
     "data": {
      "text/plain": [
       "1"
      ]
     },
     "execution_count": 5,
     "metadata": {},
     "output_type": "execute_result"
    }
   ],
   "source": [
    "# ketvirtas saraso elementas\n",
    "sarasas[3]"
   ]
  },
  {
   "cell_type": "code",
   "execution_count": 6,
   "metadata": {},
   "outputs": [
    {
     "data": {
      "text/plain": [
       "'rytas'"
      ]
     },
     "execution_count": 6,
     "metadata": {},
     "output_type": "execute_result"
    }
   ],
   "source": [
    "zodziai[1]\n",
    "# pasiekti saraso elementa"
   ]
  },
  {
   "cell_type": "code",
   "execution_count": 10,
   "metadata": {},
   "outputs": [
    {
     "data": {
      "text/plain": [
       "[5, 7, 3, 1, 9, 9, 3, 13, 12, 12]"
      ]
     },
     "execution_count": 10,
     "metadata": {},
     "output_type": "execute_result"
    }
   ],
   "source": [
    "sarasas.append(12)\n",
    "sarasas\n",
    "# i sarasa itrauke skaiciu 12"
   ]
  },
  {
   "cell_type": "code",
   "execution_count": 8,
   "metadata": {},
   "outputs": [
    {
     "data": {
      "text/plain": [
       "['labas', 'vakaras', 'studemtai']"
      ]
     },
     "execution_count": 8,
     "metadata": {},
     "output_type": "execute_result"
    }
   ],
   "source": [
    "zodziai[1] = \"vakaras\"\n",
    "zodziai\n",
    "#  2 elementa pakeicia rytas  i vakaras"
   ]
  },
  {
   "cell_type": "code",
   "execution_count": 9,
   "metadata": {},
   "outputs": [
    {
     "data": {
      "text/plain": [
       "[5, 7, 3, 1, 9, 9, 3, 13, 12]"
      ]
     },
     "execution_count": 9,
     "metadata": {},
     "output_type": "execute_result"
    }
   ],
   "source": [
    "sarasas[4] = 9\n",
    "sarasas\n",
    "# pakeicia 4 elementa i 9"
   ]
  },
  {
   "cell_type": "code",
   "execution_count": 1,
   "metadata": {},
   "outputs": [
    {
     "ename": "NameError",
     "evalue": "name 'sarasas' is not defined",
     "output_type": "error",
     "traceback": [
      "\u001b[1;31m---------------------------------------------------------------------------\u001b[0m",
      "\u001b[1;31mNameError\u001b[0m                                 Traceback (most recent call last)",
      "Cell \u001b[1;32mIn[1], line 2\u001b[0m\n\u001b[0;32m      1\u001b[0m \u001b[39m# randa kuris elementas sarase\u001b[39;00m\n\u001b[1;32m----> 2\u001b[0m sarasas\u001b[39m.\u001b[39mindex(\u001b[39m13\u001b[39m)\n",
      "\u001b[1;31mNameError\u001b[0m: name 'sarasas' is not defined"
     ]
    }
   ],
   "source": [
    "# randa kuris elementas sarase\n",
    "sarasas.index(13)"
   ]
  },
  {
   "cell_type": "code",
   "execution_count": 13,
   "metadata": {},
   "outputs": [
    {
     "data": {
      "text/plain": [
       "13"
      ]
     },
     "execution_count": 13,
     "metadata": {},
     "output_type": "execute_result"
    }
   ],
   "source": [
    "sarasas.pop(7)\n",
    "# pop ismeta is saraso 7 elementa"
   ]
  },
  {
   "cell_type": "code",
   "execution_count": 14,
   "metadata": {},
   "outputs": [
    {
     "data": {
      "text/plain": [
       "9"
      ]
     },
     "execution_count": 14,
     "metadata": {},
     "output_type": "execute_result"
    }
   ],
   "source": [
    "len(sarasas)\n",
    "# saraso ilgis"
   ]
  },
  {
   "cell_type": "code",
   "execution_count": 15,
   "metadata": {},
   "outputs": [
    {
     "data": {
      "text/plain": [
       "28"
      ]
     },
     "execution_count": 15,
     "metadata": {},
     "output_type": "execute_result"
    }
   ],
   "source": [
    "sakinys = \"o jau pietu pertrauka ateina\"\n",
    "len(sakinys)"
   ]
  },
  {
   "cell_type": "code",
   "execution_count": 17,
   "metadata": {},
   "outputs": [],
   "source": [
    "zodziai = sakinys.split()"
   ]
  },
  {
   "cell_type": "code",
   "execution_count": 18,
   "metadata": {},
   "outputs": [
    {
     "data": {
      "text/plain": [
       "'pertrauka'"
      ]
     },
     "execution_count": 18,
     "metadata": {},
     "output_type": "execute_result"
    }
   ],
   "source": [
    "zodziai[3]"
   ]
  },
  {
   "cell_type": "code",
   "execution_count": 19,
   "metadata": {},
   "outputs": [
    {
     "data": {
      "text/plain": [
       "'u'"
      ]
     },
     "execution_count": 19,
     "metadata": {},
     "output_type": "execute_result"
    }
   ],
   "source": [
    "zodziai[3][6]"
   ]
  },
  {
   "cell_type": "code",
   "execution_count": 20,
   "metadata": {},
   "outputs": [
    {
     "data": {
      "text/plain": [
       "list"
      ]
     },
     "execution_count": 20,
     "metadata": {},
     "output_type": "execute_result"
    }
   ],
   "source": [
    "type(sarasas)"
   ]
  },
  {
   "attachments": {},
   "cell_type": "markdown",
   "metadata": {},
   "source": [
    "## zodynai"
   ]
  },
  {
   "cell_type": "code",
   "execution_count": 21,
   "metadata": {},
   "outputs": [
    {
     "data": {
      "text/plain": [
       "dict"
      ]
     },
     "execution_count": 21,
     "metadata": {},
     "output_type": "execute_result"
    }
   ],
   "source": [
    "tz ={}\n",
    "type(tz)"
   ]
  },
  {
   "cell_type": "code",
   "execution_count": 24,
   "metadata": {},
   "outputs": [
    {
     "data": {
      "text/plain": [
       "{'kava': 7.99, 'sausainiai': 2.19, 'apelsinai': 1.59, 'ananasas': 3.06}"
      ]
     },
     "execution_count": 24,
     "metadata": {},
     "output_type": "execute_result"
    }
   ],
   "source": [
    "krepselis = {\n",
    "    #struktura raktas > reiksme\n",
    "    \"kava\": 7.99, #reiksme gali but ir tekstas\n",
    "    \"sausainiai\": 2.19,\n",
    "    \"apelsinai\": 1.59,\n",
    "    \"ananasas\": 3.06,\n",
    "}\n",
    "krepselis"
   ]
  },
  {
   "cell_type": "code",
   "execution_count": 25,
   "metadata": {},
   "outputs": [
    {
     "data": {
      "text/plain": [
       "7.99"
      ]
     },
     "execution_count": 25,
     "metadata": {},
     "output_type": "execute_result"
    }
   ],
   "source": [
    "krepselis['kava']"
   ]
  },
  {
   "cell_type": "code",
   "execution_count": 26,
   "metadata": {},
   "outputs": [
    {
     "data": {
      "text/plain": [
       "{'kava': 7.99, 'sausainiai': 2.19, 'apelsinai': 1.59, 'ananasas': 3.57}"
      ]
     },
     "execution_count": 26,
     "metadata": {},
     "output_type": "execute_result"
    }
   ],
   "source": [
    "# keicia zodymo reiksme\n",
    "krepselis['ananasas'] = 3.57\n",
    "krepselis"
   ]
  },
  {
   "cell_type": "code",
   "execution_count": 27,
   "metadata": {},
   "outputs": [
    {
     "data": {
      "text/plain": [
       "{'kava': 7.99,\n",
       " 'sausainiai': 2.19,\n",
       " 'apelsinai': 1.59,\n",
       " 'ananasas': 3.57,\n",
       " 'vanduo': 0.29}"
      ]
     },
     "execution_count": 27,
     "metadata": {},
     "output_type": "execute_result"
    }
   ],
   "source": [
    "# prideda i sarasa\n",
    "krepselis['vanduo'] = 0.29\n",
    "krepselis"
   ]
  },
  {
   "cell_type": "code",
   "execution_count": 28,
   "metadata": {},
   "outputs": [
    {
     "data": {
      "text/plain": [
       "{'kava': 7.99, 'apelsinai': 1.59, 'ananasas': 3.57, 'vanduo': 0.29}"
      ]
     },
     "execution_count": 28,
     "metadata": {},
     "output_type": "execute_result"
    }
   ],
   "source": [
    "#istrina irasa is saraso\n",
    "del krepselis['sausainiai']\n",
    "krepselis"
   ]
  },
  {
   "cell_type": "code",
   "execution_count": 30,
   "metadata": {},
   "outputs": [
    {
     "data": {
      "text/plain": [
       "{'kava': 7.99,\n",
       " 'apelsinai': 1.59,\n",
       " 'ananasas': 3.57,\n",
       " 'vanduo': 0.29,\n",
       " \"chino'ai\": 2.3}"
      ]
     },
     "execution_count": 30,
     "metadata": {},
     "output_type": "execute_result"
    }
   ],
   "source": [
    "# prideda irasa\n",
    "krepselis['chino\\'ai'] = 2.30\n",
    "krepselis"
   ]
  },
  {
   "cell_type": "code",
   "execution_count": 33,
   "metadata": {},
   "outputs": [
    {
     "data": {
      "text/plain": [
       "{'kava': 7.99,\n",
       " 'apelsinai': 1.59,\n",
       " 'ananasas': 3.57,\n",
       " 'vanduo': 0.29,\n",
       " \"chino'ai\": 2.3,\n",
       " 'gerimas \"Vytautas\"': 1.05}"
      ]
     },
     "execution_count": 33,
     "metadata": {},
     "output_type": "execute_result"
    }
   ],
   "source": [
    "#prideda irasa\n",
    "krepselis['gerimas \"Vytautas\"'] = 1.05\n",
    "krepselis"
   ]
  },
  {
   "attachments": {},
   "cell_type": "markdown",
   "metadata": {},
   "source": [
    "## Ciklai"
   ]
  },
  {
   "attachments": {},
   "cell_type": "markdown",
   "metadata": {},
   "source": [
    "## sarasai"
   ]
  },
  {
   "cell_type": "code",
   "execution_count": 35,
   "metadata": {},
   "outputs": [
    {
     "name": "stdout",
     "output_type": "stream",
     "text": [
      "5\n",
      "7\n",
      "3\n",
      "1\n",
      "9\n",
      "9\n",
      "3\n",
      "12\n",
      "12\n"
     ]
    }
   ],
   "source": [
    "for skaicius in sarasas:\n",
    "    print(skaicius)"
   ]
  },
  {
   "cell_type": "code",
   "execution_count": 37,
   "metadata": {},
   "outputs": [
    {
     "name": "stdout",
     "output_type": "stream",
     "text": [
      "61\n"
     ]
    }
   ],
   "source": [
    "# sudejo suma is viso saraso\n",
    "suma = 0\n",
    "for skaicius in sarasas:\n",
    "    suma +=skaicius\n",
    "print(suma)    \n",
    "\n"
   ]
  },
  {
   "cell_type": "code",
   "execution_count": 38,
   "metadata": {},
   "outputs": [
    {
     "name": "stdout",
     "output_type": "stream",
     "text": [
      "tarpine suma: 5\n",
      "tarpine suma: 12\n",
      "tarpine suma: 15\n",
      "tarpine suma: 16\n",
      "tarpine suma: 25\n",
      "tarpine suma: 34\n",
      "tarpine suma: 37\n",
      "tarpine suma: 49\n",
      "tarpine suma: 61\n",
      "galutine suma: 61\n"
     ]
    }
   ],
   "source": [
    "# sudeda is eiles viska ir paraso galutine suma\n",
    "suma = 0\n",
    "for skaicius in sarasas:\n",
    "    suma +=skaicius\n",
    "    print(\"tarpine suma:\", suma)\n",
    "print('galutine suma:',suma)        "
   ]
  },
  {
   "attachments": {},
   "cell_type": "markdown",
   "metadata": {},
   "source": [
    "## zuodynas"
   ]
  },
  {
   "cell_type": "code",
   "execution_count": 43,
   "metadata": {},
   "outputs": [
    {
     "name": "stdout",
     "output_type": "stream",
     "text": [
      "kava: 7.99\n",
      "apelsinai: 1.59\n",
      "ananasas: 3.57\n",
      "vanduo: 0.29\n",
      "chino'ai: 2.3\n",
      "gerimas \"Vytautas\": 1.05\n",
      "viso: 16.79\n"
     ]
    }
   ],
   "source": [
    "# ciklas per visus zodyno vienetu elementus\n",
    "suma = 0\n",
    "for preke, kaina in krepselis.items():\n",
    "    print(f\"{preke}: {kaina}\")\n",
    "    suma += kaina\n",
    "print(f\"viso: {suma}\")"
   ]
  },
  {
   "cell_type": "code",
   "execution_count": 46,
   "metadata": {},
   "outputs": [
    {
     "name": "stdout",
     "output_type": "stream",
     "text": [
      "kava 7.99\n",
      "apelsinai 1.59\n",
      "ananasas 3.57\n",
      "vanduo 0.29\n",
      "chino'ai 2.3\n",
      "gerimas \"Vytautas\" 1.05\n"
     ]
    }
   ],
   "source": [
    "for preke in krepselis:\n",
    "    print(preke, krepselis[preke])"
   ]
  },
  {
   "cell_type": "code",
   "execution_count": 47,
   "metadata": {},
   "outputs": [
    {
     "name": "stdout",
     "output_type": "stream",
     "text": [
      "preke: kava | kaina: 7.99\n",
      "preke: apelsinai | kaina: 1.59\n",
      "preke: ananasas | kaina: 3.57\n",
      "preke: vanduo | kaina: 0.29\n",
      "preke: chino'ai | kaina: 2.3\n",
      "preke: gerimas \"Vytautas\" | kaina: 1.05\n"
     ]
    }
   ],
   "source": [
    "# \"for preke\" sukuria pavadinima daigtui krepselyja\n",
    "for preke in krepselis:\n",
    "    print('preke:', preke, '| kaina:', krepselis[preke])"
   ]
  },
  {
   "cell_type": "code",
   "execution_count": 48,
   "metadata": {},
   "outputs": [
    {
     "name": "stdout",
     "output_type": "stream",
     "text": [
      "7.99\n",
      "1.59\n",
      "3.57\n",
      "0.29\n",
      "2.3\n",
      "1.05\n"
     ]
    }
   ],
   "source": [
    "for kaina in krepselis.values():\n",
    "    print(kaina)"
   ]
  },
  {
   "cell_type": "code",
   "execution_count": 49,
   "metadata": {},
   "outputs": [
    {
     "name": "stdout",
     "output_type": "stream",
     "text": [
      "16.79\n"
     ]
    }
   ],
   "source": [
    "#sudeda prekiu kainas\n",
    "suma = 0\n",
    "for kaina in krepselis.values():\n",
    "    suma+= kaina\n",
    "print(suma)\n"
   ]
  },
  {
   "attachments": {},
   "cell_type": "markdown",
   "metadata": {},
   "source": [
    "## range funkcija"
   ]
  },
  {
   "cell_type": "code",
   "execution_count": 50,
   "metadata": {},
   "outputs": [
    {
     "name": "stdout",
     "output_type": "stream",
     "text": [
      "1\n",
      "2\n",
      "3\n",
      "4\n",
      "5\n",
      "6\n",
      "7\n",
      "8\n",
      "9\n",
      "10\n"
     ]
    }
   ],
   "source": [
    "for skaicius in range(1, 11):\n",
    "    print(skaicius)"
   ]
  },
  {
   "cell_type": "code",
   "execution_count": 51,
   "metadata": {},
   "outputs": [
    {
     "name": "stdout",
     "output_type": "stream",
     "text": [
      "3\n",
      "6\n",
      "9\n",
      "12\n",
      "15\n",
      "18\n",
      "21\n",
      "24\n",
      "27\n",
      "30\n"
     ]
    }
   ],
   "source": [
    "for skaicius in range(3, 31, 3):\n",
    "    print(skaicius)"
   ]
  },
  {
   "cell_type": "code",
   "execution_count": 52,
   "metadata": {},
   "outputs": [
    {
     "name": "stdout",
     "output_type": "stream",
     "text": [
      "4\n",
      "16\n",
      "96\n",
      "768\n",
      "7680\n"
     ]
    }
   ],
   "source": [
    "tarpinis = 2        \n",
    "for skaicius in range(2, 11, 2):\n",
    "    tarpinis *= skaicius\n",
    "    print(tarpinis)"
   ]
  },
  {
   "cell_type": "code",
   "execution_count": 53,
   "metadata": {},
   "outputs": [
    {
     "name": "stdout",
     "output_type": "stream",
     "text": [
      "1980\n",
      "1981\n",
      "1982\n",
      "1983\n",
      "1984\n",
      "1985\n",
      "1986\n",
      "1987\n",
      "1988\n",
      "1989\n",
      "1990\n",
      "1991\n",
      "1992\n",
      "1993\n",
      "1994\n",
      "1995\n",
      "1996\n",
      "1997\n",
      "1998\n",
      "1999\n",
      "2000\n",
      "2001\n",
      "2002\n",
      "2003\n",
      "2004\n",
      "2005\n",
      "2006\n",
      "2007\n",
      "2008\n",
      "2009\n",
      "2010\n",
      "2011\n",
      "2012\n",
      "2013\n",
      "2014\n",
      "2015\n",
      "2016\n",
      "2017\n",
      "2018\n",
      "2019\n",
      "2020\n",
      "2021\n",
      "2022\n"
     ]
    }
   ],
   "source": [
    "# suskaiciouja metus\n",
    "for metai in range(1980, 2023):\n",
    "    print(metai)"
   ]
  },
  {
   "cell_type": "code",
   "execution_count": 63,
   "metadata": {},
   "outputs": [
    {
     "name": "stdout",
     "output_type": "stream",
     "text": [
      "-5\n",
      "-4\n",
      "-3\n",
      "-2\n",
      "-1\n",
      "0\n",
      "1\n",
      "2\n",
      "3\n",
      "4\n",
      "5\n"
     ]
    }
   ],
   "source": [
    "for skaicius in range(-5, 6):\n",
    "    print(skaicius)"
   ]
  },
  {
   "cell_type": "code",
   "execution_count": 66,
   "metadata": {},
   "outputs": [
    {
     "name": "stdout",
     "output_type": "stream",
     "text": [
      "2022\n",
      "2021\n",
      "2020\n",
      "2019\n",
      "2018\n",
      "2017\n",
      "2016\n",
      "2015\n",
      "2014\n",
      "2013\n",
      "2012\n",
      "2011\n",
      "2010\n",
      "2009\n",
      "2008\n",
      "2007\n",
      "2006\n",
      "2005\n",
      "2004\n",
      "2003\n",
      "2002\n",
      "2001\n",
      "2000\n",
      "1999\n",
      "1998\n",
      "1997\n",
      "1996\n",
      "1995\n",
      "1994\n",
      "1993\n",
      "1992\n",
      "1991\n"
     ]
    }
   ],
   "source": [
    "# nuo 2022 iki 1990 po -1\n",
    "for metai in range(2022, 1990, -1):\n",
    "    print(metai)"
   ]
  },
  {
   "attachments": {},
   "cell_type": "markdown",
   "metadata": {},
   "source": [
    "## while ciklas"
   ]
  },
  {
   "cell_type": "code",
   "execution_count": 67,
   "metadata": {},
   "outputs": [
    {
     "name": "stdout",
     "output_type": "stream",
     "text": [
      "5\n",
      "4\n",
      "3\n",
      "2\n",
      "1\n"
     ]
    }
   ],
   "source": [
    "skaicius=5\n",
    "while skaicius > 0:\n",
    "    print(skaicius)\n",
    "    skaicius -=1"
   ]
  },
  {
   "cell_type": "code",
   "execution_count": 68,
   "metadata": {},
   "outputs": [
    {
     "name": "stdout",
     "output_type": "stream",
     "text": [
      "skaicius pries padidinima 0\n",
      "padidintas skaicius: 2\n",
      "skaicius pries padidinima 2\n",
      "padidintas skaicius: 4\n",
      "skaicius pries padidinima 4\n",
      "padidintas skaicius: 6\n",
      "skaicius pries padidinima 6\n",
      "padidintas skaicius: 8\n",
      "skaicius pries padidinima 8\n",
      "padidintas skaicius: 10\n"
     ]
    }
   ],
   "source": [
    "skaicius =0\n",
    "while skaicius < 10:\n",
    "    print(\"skaicius pries padidinima\", skaicius)\n",
    "    skaicius +=2\n",
    "    print(\"padidintas skaicius:\", skaicius)"
   ]
  },
  {
   "cell_type": "code",
   "execution_count": 69,
   "metadata": {},
   "outputs": [
    {
     "name": "stdout",
     "output_type": "stream",
     "text": [
      "1\n",
      "2\n",
      "3\n",
      "4\n",
      "5\n",
      "6\n",
      "7\n",
      "8\n",
      "9\n",
      "10\n",
      "11\n",
      "12\n",
      "13\n",
      "14\n",
      "15\n",
      "16\n",
      "17\n"
     ]
    }
   ],
   "source": [
    "for skaicius in range(1,50):\n",
    "    print(skaicius)\n",
    "    if skaicius % 17 == 0:\n",
    "        break"
   ]
  },
  {
   "cell_type": "code",
   "execution_count": 71,
   "metadata": {},
   "outputs": [
    {
     "name": "stdout",
     "output_type": "stream",
     "text": [
      "-2\n",
      "-1\n",
      "0\n",
      "1\n",
      "2\n",
      "3\n",
      "4\n",
      "5\n",
      "6\n",
      "7\n",
      "8\n",
      "9\n",
      "10\n",
      "11\n",
      "12\n",
      "13\n",
      "14\n",
      "15\n",
      "16\n",
      "17\n"
     ]
    }
   ],
   "source": [
    "# praleidzia 0\n",
    "for skaicius in range(-2,50):\n",
    "    print(skaicius)\n",
    "    if skaicius != 0 and skaicius % 17 == 0:\n",
    "        break"
   ]
  },
  {
   "cell_type": "code",
   "execution_count": 72,
   "metadata": {},
   "outputs": [
    {
     "name": "stdout",
     "output_type": "stream",
     "text": [
      "1\n",
      "3\n",
      "5\n",
      "7\n",
      "9\n"
     ]
    }
   ],
   "source": [
    "#praleidzia po 2\n",
    "for skaicius in range (0, 11):\n",
    "    if skaicius % 2 == 0:\n",
    "       continue\n",
    "    print(skaicius)"
   ]
  },
  {
   "cell_type": "code",
   "execution_count": 75,
   "metadata": {},
   "outputs": [
    {
     "name": "stdout",
     "output_type": "stream",
     "text": [
      "1\n",
      "2\n",
      "3\n",
      "4\n",
      "5\n",
      "ciklas sekmingai prasuktas\n"
     ]
    }
   ],
   "source": [
    "saugiklis = 5\n",
    "for skaicius in range(1, 6):\n",
    "    print(skaicius)\n",
    "    if skaicius > saugiklis:\n",
    "        print('saugiklis ismustas')\n",
    "        break\n",
    "else:\n",
    "        print('ciklas sekmingai prasuktas')"
   ]
  },
  {
   "cell_type": "code",
   "execution_count": 76,
   "metadata": {},
   "outputs": [
    {
     "name": "stdout",
     "output_type": "stream",
     "text": [
      "1\n",
      "2\n",
      "3\n",
      "4\n",
      "5\n",
      "6\n",
      "saugiklis ismustas\n"
     ]
    }
   ],
   "source": [
    "saugiklis = 5\n",
    "for skaicius in range(1, 7):\n",
    "    print(skaicius)\n",
    "    if skaicius > saugiklis:\n",
    "        print('saugiklis ismustas')\n",
    "        break\n",
    "else:\n",
    "        print('ciklas sekmingai prasuktas')"
   ]
  }
 ],
 "metadata": {
  "kernelspec": {
   "display_name": "venv",
   "language": "python",
   "name": "python3"
  },
  "language_info": {
   "codemirror_mode": {
    "name": "ipython",
    "version": 3
   },
   "file_extension": ".py",
   "mimetype": "text/x-python",
   "name": "python",
   "nbconvert_exporter": "python",
   "pygments_lexer": "ipython3",
   "version": "3.9.1 (tags/v3.9.1:1e5d33e, Dec  7 2020, 17:08:21) [MSC v.1927 64 bit (AMD64)]"
  },
  "orig_nbformat": 4,
  "vscode": {
   "interpreter": {
    "hash": "21087dc93902ca971e09754e69e063779586f614c5ae717553f3f5a9f5000319"
   }
  }
 },
 "nbformat": 4,
 "nbformat_minor": 2
}
