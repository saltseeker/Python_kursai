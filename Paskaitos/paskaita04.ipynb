{
 "cells": [
  {
   "attachments": {},
   "cell_type": "markdown",
   "metadata": {},
   "source": [
    "## loginiai kintamieji (boolean)"
   ]
  },
  {
   "cell_type": "code",
   "execution_count": 2,
   "metadata": {},
   "outputs": [
    {
     "data": {
      "text/plain": [
       "bool"
      ]
     },
     "execution_count": 2,
     "metadata": {},
     "output_type": "execute_result"
    }
   ],
   "source": [
    "tiesa = True\n",
    "type(tiesa)"
   ]
  },
  {
   "cell_type": "code",
   "execution_count": 3,
   "metadata": {},
   "outputs": [
    {
     "data": {
      "text/plain": [
       "1"
      ]
     },
     "execution_count": 3,
     "metadata": {},
     "output_type": "execute_result"
    }
   ],
   "source": [
    "int(tiesa)"
   ]
  },
  {
   "cell_type": "code",
   "execution_count": 4,
   "metadata": {},
   "outputs": [
    {
     "data": {
      "text/plain": [
       "0"
      ]
     },
     "execution_count": 4,
     "metadata": {},
     "output_type": "execute_result"
    }
   ],
   "source": [
    "int(False)"
   ]
  },
  {
   "cell_type": "code",
   "execution_count": 7,
   "metadata": {},
   "outputs": [
    {
     "data": {
      "text/plain": [
       "bool"
      ]
     },
     "execution_count": 7,
     "metadata": {},
     "output_type": "execute_result"
    }
   ],
   "source": [
    "from calendar import isleap\n",
    "type(isleap(2100))"
   ]
  },
  {
   "cell_type": "code",
   "execution_count": 9,
   "metadata": {},
   "outputs": [
    {
     "data": {
      "text/plain": [
       "True"
      ]
     },
     "execution_count": 9,
     "metadata": {},
     "output_type": "execute_result"
    }
   ],
   "source": [
    "krepselis = {\n",
    "    \"sausainiai\": 2,\n",
    "    \"kava\": 1,\n",
    "\n",
    "}\n",
    "\n",
    "def ar_yra(zodynas, raktas):\n",
    "    if raktas in zodynas:\n",
    "        return True\n",
    "    else:\n",
    "        return False\n",
    "ar_yra(krepselis, \"kava\")            "
   ]
  },
  {
   "cell_type": "code",
   "execution_count": 10,
   "metadata": {},
   "outputs": [
    {
     "name": "stdout",
     "output_type": "stream",
     "text": [
      "1\n"
     ]
    }
   ],
   "source": [
    "if ar_yra(krepselis, \"kava\"):\n",
    "    print(krepselis[\"kava\"])\n",
    "else:\n",
    "    print('kavos nera')"
   ]
  },
  {
   "cell_type": "code",
   "execution_count": 11,
   "metadata": {},
   "outputs": [
    {
     "data": {
      "text/plain": [
       "False"
      ]
     },
     "execution_count": 11,
     "metadata": {},
     "output_type": "execute_result"
    }
   ],
   "source": [
    "tiesa = ar_yra(krepselis, \"sausainiani\") == True\n",
    "tiesa"
   ]
  },
  {
   "cell_type": "code",
   "execution_count": 7,
   "metadata": {},
   "outputs": [
    {
     "data": {
      "text/plain": [
       "True"
      ]
     },
     "execution_count": 7,
     "metadata": {},
     "output_type": "execute_result"
    }
   ],
   "source": [
    "tiesa = ar_yra(krepselis, \"uogiene\") == False\n",
    "tiesa"
   ]
  },
  {
   "cell_type": "code",
   "execution_count": 1,
   "metadata": {},
   "outputs": [
    {
     "data": {
      "text/plain": [
       "False"
      ]
     },
     "execution_count": 1,
     "metadata": {},
     "output_type": "execute_result"
    }
   ],
   "source": [
    "not True"
   ]
  },
  {
   "cell_type": "code",
   "execution_count": 2,
   "metadata": {},
   "outputs": [
    {
     "data": {
      "text/plain": [
       "True"
      ]
     },
     "execution_count": 2,
     "metadata": {},
     "output_type": "execute_result"
    }
   ],
   "source": [
    "not False"
   ]
  },
  {
   "cell_type": "code",
   "execution_count": 8,
   "metadata": {},
   "outputs": [
    {
     "data": {
      "text/plain": [
       "True"
      ]
     },
     "execution_count": 8,
     "metadata": {},
     "output_type": "execute_result"
    }
   ],
   "source": [
    "not ar_yra(krepselis, \"uogiene\")"
   ]
  },
  {
   "cell_type": "code",
   "execution_count": 12,
   "metadata": {},
   "outputs": [
    {
     "name": "stdout",
     "output_type": "stream",
     "text": [
      "Airida\n",
      "sakute\n"
     ]
    }
   ],
   "source": [
    "darbuotojai = {\n",
    "        \"studente\": \"Airida\",\n",
    "        \"destytojas\": \"Kestutis\",\n",
    "        'koordinatorius': \"sakute\",\n",
    "\n",
    "}\n",
    "\n",
    "if ar_yra(darbuotojai, \"studente\"):\n",
    "    print(darbuotojai[\"studente\"])\n",
    "\n",
    "if ar_yra(darbuotojai, \"koordinatorius\"):\n",
    "    print(darbuotojai[\"koordinatorius\"])    \n",
    "\n"
   ]
  },
  {
   "cell_type": "code",
   "execution_count": null,
   "metadata": {},
   "outputs": [],
   "source": [
    "print(type(darbuotojai))\n",
    "print(type(darbuotojai[\"koordinatoriu\"]))\n",
    "print(type(krepselis[\"kava\"]))\n",
    "print(type(krepselis[\"sausainiai\"]))\n",
    "print"
   ]
  },
  {
   "attachments": {},
   "cell_type": "markdown",
   "metadata": {},
   "source": [
    "## Data laikas\n"
   ]
  },
  {
   "cell_type": "code",
   "execution_count": 13,
   "metadata": {},
   "outputs": [],
   "source": [
    "import datetime"
   ]
  },
  {
   "cell_type": "code",
   "execution_count": 15,
   "metadata": {},
   "outputs": [
    {
     "data": {
      "text/plain": [
       "datetime.date(2022, 12, 22)"
      ]
     },
     "execution_count": 15,
     "metadata": {},
     "output_type": "execute_result"
    }
   ],
   "source": [
    "datetime.date.today()"
   ]
  },
  {
   "cell_type": "code",
   "execution_count": 21,
   "metadata": {},
   "outputs": [
    {
     "name": "stdout",
     "output_type": "stream",
     "text": [
      "2022-12-22\n"
     ]
    }
   ],
   "source": [
    "siandien = datetime.date.today()\n",
    "print(siandien)"
   ]
  },
  {
   "cell_type": "code",
   "execution_count": 19,
   "metadata": {},
   "outputs": [
    {
     "data": {
      "text/plain": [
       "datetime.date"
      ]
     },
     "execution_count": 19,
     "metadata": {},
     "output_type": "execute_result"
    }
   ],
   "source": [
    "type(siandien)"
   ]
  },
  {
   "cell_type": "code",
   "execution_count": 22,
   "metadata": {},
   "outputs": [
    {
     "name": "stdout",
     "output_type": "stream",
     "text": [
      "13:58:00\n",
      "<class 'datetime.time'>\n"
     ]
    }
   ],
   "source": [
    "laikas = datetime.time(13, 58)\n",
    "print(laikas)\n",
    "print(type(laikas))"
   ]
  },
  {
   "cell_type": "code",
   "execution_count": 23,
   "metadata": {},
   "outputs": [
    {
     "name": "stdout",
     "output_type": "stream",
     "text": [
      "2022-12-22 14:00:32.387515\n",
      "<class 'datetime.datetime'>\n"
     ]
    }
   ],
   "source": [
    "dabar = datetime.datetime.now()\n",
    "print(dabar)\n",
    "print(type(dabar))"
   ]
  },
  {
   "cell_type": "code",
   "execution_count": 31,
   "metadata": {},
   "outputs": [
    {
     "name": "stdout",
     "output_type": "stream",
     "text": [
      "2022-12-22 12:10:23.967600\n"
     ]
    }
   ],
   "source": [
    "utc_dabar = datetime.datetime.utcnow()\n",
    "print(utc_dabar)"
   ]
  },
  {
   "cell_type": "code",
   "execution_count": 28,
   "metadata": {},
   "outputs": [
    {
     "data": {
      "text/plain": [
       "7"
      ]
     },
     "execution_count": 28,
     "metadata": {},
     "output_type": "execute_result"
    }
   ],
   "source": [
    "skirtumas = datetime.datetime.now() - dabar\n",
    "skirtumas.seconds // 60"
   ]
  },
  {
   "cell_type": "code",
   "execution_count": 29,
   "metadata": {},
   "outputs": [
    {
     "data": {
      "text/plain": [
       "datetime.timedelta"
      ]
     },
     "execution_count": 29,
     "metadata": {},
     "output_type": "execute_result"
    }
   ],
   "source": [
    "type(skirtumas)"
   ]
  },
  {
   "cell_type": "code",
   "execution_count": 32,
   "metadata": {},
   "outputs": [
    {
     "name": "stdout",
     "output_type": "stream",
     "text": [
      "1983-03-19\n"
     ]
    }
   ],
   "source": [
    "gimiau = datetime.date(1983, 3, 19)\n",
    "print(gimiau)"
   ]
  },
  {
   "cell_type": "code",
   "execution_count": 33,
   "metadata": {},
   "outputs": [
    {
     "name": "stdout",
     "output_type": "stream",
     "text": [
      "14523 days, 0:00:00\n"
     ]
    }
   ],
   "source": [
    "amzius = datetime.date.today() - gimiau\n",
    "print(amzius)"
   ]
  },
  {
   "cell_type": "code",
   "execution_count": 35,
   "metadata": {},
   "outputs": [
    {
     "data": {
      "text/plain": [
       "39.761806981519506"
      ]
     },
     "execution_count": 35,
     "metadata": {},
     "output_type": "execute_result"
    }
   ],
   "source": [
    "amzius.days / 365.25"
   ]
  },
  {
   "cell_type": "code",
   "execution_count": 37,
   "metadata": {},
   "outputs": [
    {
     "data": {
      "text/plain": [
       "39.76"
      ]
     },
     "execution_count": 37,
     "metadata": {},
     "output_type": "execute_result"
    }
   ],
   "source": [
    "round(amzius.days / 365.25, 2)"
   ]
  },
  {
   "cell_type": "code",
   "execution_count": 43,
   "metadata": {},
   "outputs": [
    {
     "name": "stdout",
     "output_type": "stream",
     "text": [
      "39 metai, 278 dienos\n"
     ]
    }
   ],
   "source": [
    "print(f\"{(amzius.days // 365.25):1.0f} metai, {(amzius.days % 365.25):1.0f} dienos\")"
   ]
  },
  {
   "cell_type": "code",
   "execution_count": 48,
   "metadata": {},
   "outputs": [
    {
     "name": "stdout",
     "output_type": "stream",
     "text": [
      "39 9 8\n"
     ]
    }
   ],
   "source": [
    "metai = amzius.days // 365.25\n",
    "menesiai = amzius.days % 365.25 // 30\n",
    "dienos = round(amzius.days % 365.25) - menesiai * 30\n",
    "print(int(metai), int(menesiai), int(dienos))\n"
   ]
  },
  {
   "attachments": {},
   "cell_type": "markdown",
   "metadata": {},
   "source": [
    "## datos/laiko konvertavimo/formatavimo funkcijos srtftime/strptime\n"
   ]
  },
  {
   "cell_type": "code",
   "execution_count": 54,
   "metadata": {},
   "outputs": [
    {
     "name": "stdout",
     "output_type": "stream",
     "text": [
      "Saturday, 19 March, 1983\n"
     ]
    }
   ],
   "source": [
    "print(gimiau.strftime(\"%A, %d %B, %Y\")) #  %A   %d- diena, %B - menesis %Y - metai"
   ]
  },
  {
   "cell_type": "code",
   "execution_count": 50,
   "metadata": {},
   "outputs": [],
   "source": [
    "import locale"
   ]
  },
  {
   "cell_type": "code",
   "execution_count": 53,
   "metadata": {},
   "outputs": [
    {
     "data": {
      "text/plain": [
       "'en_US.UFT-8'"
      ]
     },
     "execution_count": 53,
     "metadata": {},
     "output_type": "execute_result"
    }
   ],
   "source": [
    "locale.setlocale(locale.LC_ALL, \"en_US.UFT-8\")"
   ]
  },
  {
   "attachments": {},
   "cell_type": "markdown",
   "metadata": {},
   "source": [
    "## timedelta"
   ]
  },
  {
   "cell_type": "code",
   "execution_count": 55,
   "metadata": {},
   "outputs": [
    {
     "data": {
      "text/plain": [
       "datetime.date(2022, 12, 15)"
      ]
     },
     "execution_count": 55,
     "metadata": {},
     "output_type": "execute_result"
    }
   ],
   "source": [
    "datetime.date.today() - datetime.timedelta(days=7)  # ateme dienas"
   ]
  },
  {
   "cell_type": "code",
   "execution_count": 57,
   "metadata": {},
   "outputs": [
    {
     "data": {
      "text/plain": [
       "datetime.date(2025, 9, 17)"
      ]
     },
     "execution_count": 57,
     "metadata": {},
     "output_type": "execute_result"
    }
   ],
   "source": [
    "datetime.date.today() + datetime.timedelta(days = 1000)  #pridejo dienu"
   ]
  },
  {
   "cell_type": "code",
   "execution_count": 62,
   "metadata": {},
   "outputs": [
    {
     "data": {
      "text/plain": [
       "'Friday! February 10, 2023'"
      ]
     },
     "execution_count": 62,
     "metadata": {},
     "output_type": "execute_result"
    }
   ],
   "source": [
    "uz_50_dienu=datetime.date.today() + datetime.timedelta(days=50)  \n",
    "uz_50_dienu.strftime(\"%A! %B %d, %Y\")"
   ]
  },
  {
   "cell_type": "code",
   "execution_count": 61,
   "metadata": {},
   "outputs": [
    {
     "data": {
      "text/plain": [
       "69"
      ]
     },
     "execution_count": 61,
     "metadata": {},
     "output_type": "execute_result"
    }
   ],
   "source": [
    "skirtumas = datetime.date(2023, 3, 1) - datetime.date.today()\n",
    "skirtumas.days"
   ]
  },
  {
   "cell_type": "code",
   "execution_count": 66,
   "metadata": {},
   "outputs": [
    {
     "data": {
      "text/plain": [
       "'15:41:43'"
      ]
     },
     "execution_count": 66,
     "metadata": {},
     "output_type": "execute_result"
    }
   ],
   "source": [
    "datetime.datetime.now().strftime(\"%H:%M:%S\")"
   ]
  },
  {
   "cell_type": "code",
   "execution_count": 65,
   "metadata": {},
   "outputs": [
    {
     "data": {
      "text/plain": [
       "'14:38'"
      ]
     },
     "execution_count": 65,
     "metadata": {},
     "output_type": "execute_result"
    }
   ],
   "source": [
    "pries_valanda = datetime.datetime.now() - datetime.timedelta(seconds=60*60)\n",
    "pries_valanda.strftime(\"%H:%M\")"
   ]
  },
  {
   "cell_type": "code",
   "execution_count": 67,
   "metadata": {},
   "outputs": [
    {
     "name": "stdout",
     "output_type": "stream",
     "text": [
      "<class 'datetime.datetime'>\n",
      "<class 'str'>\n",
      "15:47:42\n"
     ]
    }
   ],
   "source": [
    "dabar = datetime.datetime.now()\n",
    "laikrodis = dabar.strftime(\"%H:%M:%S\")\n",
    "print(type(dabar))\n",
    "print(type(laikrodis))\n",
    "print(laikrodis)"
   ]
  },
  {
   "attachments": {},
   "cell_type": "markdown",
   "metadata": {},
   "source": [
    "## Klaidu gaudymas"
   ]
  },
  {
   "cell_type": "code",
   "execution_count": 2,
   "metadata": {},
   "outputs": [
    {
     "name": "stdout",
     "output_type": "stream",
     "text": [
      "Dalybos is nulio klaida\n"
     ]
    }
   ],
   "source": [
    "sk1 = 7\n",
    "sk2 = 0\n",
    "try:\n",
    "    rez = sk1 / sk2\n",
    "except TypeError as error:  \n",
    "    print(f\"Matematiai veiksmai leidziami tik su skaiciais\")\n",
    "except ZeroDivisionError as error:\n",
    "    print(f\"Dalybos is nulio klaida\")   \n",
    "else:\n",
    "    print(f\"{sk1} / {sk2} = {rez}\")    "
   ]
  },
  {
   "cell_type": "code",
   "execution_count": 6,
   "metadata": {},
   "outputs": [
    {
     "name": "stdout",
     "output_type": "stream",
     "text": [
      "Error ZeroDivisionError: division by zero\n"
     ]
    }
   ],
   "source": [
    "sk1 = 7\n",
    "sk2 = 0\n",
    "try:\n",
    "    rez = sk1 / sk2\n",
    "except Exception as error:  \n",
    "    print(f\"Error {error.__class__.__name__}: {error}\")\n",
    "else:\n",
    "    print(f\"{sk1} / {sk2} = {rez}\")   "
   ]
  },
  {
   "cell_type": "code",
   "execution_count": 7,
   "metadata": {},
   "outputs": [
    {
     "name": "stdout",
     "output_type": "stream",
     "text": [
      "Error ZeroDivisionError: division by zero\n"
     ]
    }
   ],
   "source": [
    "sk1 = 7\n",
    "sk2 = 0\n",
    "try:\n",
    "    rez = sk1 / sk2\n",
    "except TypeError as error:  \n",
    "   print(f\"Error {error.__class__.__name__}: {error}\")\n",
    "except ZeroDivisionError as error:\n",
    "    print(f\"Error {error.__class__.__name__}: {error}\")\n",
    "else:\n",
    "    print(f\"{sk1} / {sk2} = {rez}\")    "
   ]
  },
  {
   "cell_type": "code",
   "execution_count": 14,
   "metadata": {},
   "outputs": [
    {
     "name": "stdout",
     "output_type": "stream",
     "text": [
      "<class 'datetime.datetime'>\n",
      "datetime\n",
      "<class 'str'>\n",
      "str\n"
     ]
    }
   ],
   "source": [
    "from datetime import datetime\n",
    "obj = datetime.now()\n",
    "print(obj.__class__)\n",
    "print(obj.__class__.__name__)\n",
    "obj = \"tekstas\"\n",
    "print(obj.__class__)\n",
    "print(obj.__class__.__name__)"
   ]
  },
  {
   "cell_type": "code",
   "execution_count": null,
   "metadata": {},
   "outputs": [
    {
     "name": "stdout",
     "output_type": "stream",
     "text": [
      "klaida <class 'type'>:[Errno 2] No such file or directory: '3.txt'\n"
     ]
    }
   ],
   "source": [
    "try:\n",
    "    skaicius = int(input(\"iveskite skaciu: \"))\n",
    "    rezultatas = 9 // skaicius\n",
    "    failas = open(str(rezultatas)+\".txt\")\n",
    "except Exception as klaida:\n",
    "    print(f\"klaida {klaida.__class__.__class__}:{klaida}\")    "
   ]
  },
  {
   "cell_type": "code",
   "execution_count": 4,
   "metadata": {},
   "outputs": [
    {
     "name": "stdout",
     "output_type": "stream",
     "text": [
      "veikia!\n"
     ]
    }
   ],
   "source": [
    "try:\n",
    "    skaicius = int(input(\"iveskite skaciu: \"))\n",
    "    rezultatas = 9 // skaicius\n",
    "    failas = open(str(rezultatas)+\".txt\")\n",
    "except ValueError:\n",
    "    print('Ivestas ne skaicius')\n",
    "except ZeroDivisionError:\n",
    "    print(\"dalyba is nulio negalima\")\n",
    "except FileNotFoundError:\n",
    "    print(\"Failas nerastas, tai ji sukursim\")\n",
    "    failas = open(str(rezultatas)+\".txt\", \"w\")\n",
    "else:\n",
    "    print(\"veikia!\")\n",
    "    \n"
   ]
  },
  {
   "cell_type": "code",
   "execution_count": 9,
   "metadata": {},
   "outputs": [
    {
     "name": "stdout",
     "output_type": "stream",
     "text": [
      "Ivestas ne skaicius\n",
      "vykdom koda toliau\n",
      "rezultatas 1\n"
     ]
    }
   ],
   "source": [
    "try:\n",
    "    skaicius = int(input(\"iveskite skaciu: \"))\n",
    "    rezultatas = 9 // skaicius\n",
    "    failas = open(str(rezultatas)+\".txt\")\n",
    "except ValueError:\n",
    "    print('Ivestas ne skaicius')\n",
    "    rezultatas = 1\n",
    "except ZeroDivisionError:\n",
    "    print(\"dalyba is nulio negalima\")\n",
    "    rezultatas = 0\n",
    "except FileNotFoundError:\n",
    "    print(\"Failas nerastas, tai ji sukursim\")\n",
    "    failas = open(str(rezultatas)+\".txt\", \"w\")\n",
    "else:\n",
    "    print(\"veikia!\")\n",
    "finally:\n",
    "    print('vykdom koda toliau')  \n",
    "    print('rezultatas', rezultatas)  \n"
   ]
  },
  {
   "cell_type": "code",
   "execution_count": null,
   "metadata": {},
   "outputs": [],
   "source": []
  }
 ],
 "metadata": {
  "kernelspec": {
   "display_name": "venv",
   "language": "python",
   "name": "python3"
  },
  "language_info": {
   "codemirror_mode": {
    "name": "ipython",
    "version": 3
   },
   "file_extension": ".py",
   "mimetype": "text/x-python",
   "name": "python",
   "nbconvert_exporter": "python",
   "pygments_lexer": "ipython3",
   "version": "3.9.1 (tags/v3.9.1:1e5d33e, Dec  7 2020, 17:08:21) [MSC v.1927 64 bit (AMD64)]"
  },
  "orig_nbformat": 4,
  "vscode": {
   "interpreter": {
    "hash": "21087dc93902ca971e09754e69e063779586f614c5ae717553f3f5a9f5000319"
   }
  }
 },
 "nbformat": 4,
 "nbformat_minor": 2
}
