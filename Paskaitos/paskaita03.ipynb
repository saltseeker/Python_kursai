{
 "cells": [
  {
   "attachments": {},
   "cell_type": "markdown",
   "metadata": {},
   "source": [
    "## funkcijos"
   ]
  },
  {
   "cell_type": "code",
   "execution_count": 1,
   "metadata": {},
   "outputs": [],
   "source": [
    "def pasisveikinti(): #apraso funkcija\n",
    "    print(\"Labas\")"
   ]
  },
  {
   "cell_type": "code",
   "execution_count": 2,
   "metadata": {},
   "outputs": [
    {
     "name": "stdout",
     "output_type": "stream",
     "text": [
      "Labas\n"
     ]
    }
   ],
   "source": [
    "pasisveikinti()"
   ]
  },
  {
   "cell_type": "code",
   "execution_count": 3,
   "metadata": {},
   "outputs": [],
   "source": [
    "def vardinis_pasisveikinimas(vardas):\n",
    "    print(f\"Sveikas {vardas}!\")"
   ]
  },
  {
   "cell_type": "code",
   "execution_count": 4,
   "metadata": {},
   "outputs": [
    {
     "name": "stdout",
     "output_type": "stream",
     "text": [
      "Sveikas Kestas!\n"
     ]
    }
   ],
   "source": [
    "vardinis_pasisveikinimas(\"Kestas\")"
   ]
  },
  {
   "cell_type": "code",
   "execution_count": 5,
   "metadata": {},
   "outputs": [
    {
     "name": "stdout",
     "output_type": "stream",
     "text": [
      "Sveikas studentas!\n"
     ]
    }
   ],
   "source": [
    "vardinis_pasisveikinimas(\"studentas\")"
   ]
  },
  {
   "cell_type": "code",
   "execution_count": 7,
   "metadata": {},
   "outputs": [
    {
     "name": "stdout",
     "output_type": "stream",
     "text": [
      "Sveikas petras!\n"
     ]
    }
   ],
   "source": [
    "vardinis_pasisveikinimas(input(\"Koks tavo vardas: \"))"
   ]
  },
  {
   "cell_type": "code",
   "execution_count": 8,
   "metadata": {},
   "outputs": [
    {
     "name": "stdout",
     "output_type": "stream",
     "text": [
      "Sveikas Zalias!\n"
     ]
    }
   ],
   "source": [
    "studentas = \"Zalias\"\n",
    "vardinis_pasisveikinimas(studentas)"
   ]
  },
  {
   "attachments": {},
   "cell_type": "markdown",
   "metadata": {},
   "source": [
    "## matematines "
   ]
  },
  {
   "cell_type": "code",
   "execution_count": 11,
   "metadata": {},
   "outputs": [
    {
     "name": "stdout",
     "output_type": "stream",
     "text": [
      "25\n"
     ]
    }
   ],
   "source": [
    "#def kvadratu(skaicius):\n",
    "#    print(skaicius ** 2)\n",
    "\n",
    "#kvadratu(5)    #apibudini kiek nori kelt kvadratu"
   ]
  },
  {
   "cell_type": "code",
   "execution_count": 16,
   "metadata": {},
   "outputs": [
    {
     "data": {
      "text/plain": [
       "25"
      ]
     },
     "execution_count": 16,
     "metadata": {},
     "output_type": "execute_result"
    }
   ],
   "source": [
    "def kvadratu(skaicius):\n",
    "   return skaicius ** 2  #grazina rezultata ir galite toliau naudoti koda\n",
    "\n",
    "kvadratu(5)    #apibudini kiek nori kelt kvadratu"
   ]
  },
  {
   "cell_type": "code",
   "execution_count": 17,
   "metadata": {},
   "outputs": [
    {
     "data": {
      "text/plain": [
       "25"
      ]
     },
     "execution_count": 17,
     "metadata": {},
     "output_type": "execute_result"
    }
   ],
   "source": [
    "pakeltas_skaicius = kvadratu(5)\n",
    "pakeltas_skaicius"
   ]
  },
  {
   "cell_type": "code",
   "execution_count": 18,
   "metadata": {},
   "outputs": [
    {
     "data": {
      "text/plain": [
       "625"
      ]
     },
     "execution_count": 18,
     "metadata": {},
     "output_type": "execute_result"
    }
   ],
   "source": [
    "kvadratu(pakeltas_skaicius)"
   ]
  },
  {
   "cell_type": "code",
   "execution_count": 19,
   "metadata": {},
   "outputs": [
    {
     "data": {
      "text/plain": [
       "5"
      ]
     },
     "execution_count": 19,
     "metadata": {},
     "output_type": "execute_result"
    }
   ],
   "source": [
    "kvadratu(3) - kvadratu(2)"
   ]
  },
  {
   "cell_type": "code",
   "execution_count": 22,
   "metadata": {},
   "outputs": [],
   "source": [
    "def laipsniu(skaicius, laipsnis):\n",
    "    return skaicius ** laipsnis"
   ]
  },
  {
   "cell_type": "code",
   "execution_count": 23,
   "metadata": {},
   "outputs": [
    {
     "data": {
      "text/plain": [
       "27"
      ]
     },
     "execution_count": 23,
     "metadata": {},
     "output_type": "execute_result"
    }
   ],
   "source": [
    "laipsniu(3, 3)"
   ]
  },
  {
   "cell_type": "code",
   "execution_count": 30,
   "metadata": {},
   "outputs": [],
   "source": [
    "def daug_kvadratu(*args): #funkcija su neribotu kiekiu\n",
    "    for argas in args:\n",
    "        print(argas ** 2)"
   ]
  },
  {
   "cell_type": "code",
   "execution_count": 31,
   "metadata": {},
   "outputs": [
    {
     "name": "stdout",
     "output_type": "stream",
     "text": [
      "25\n",
      "9\n",
      "144\n",
      "16\n",
      "49\n",
      "64\n",
      "9\n",
      "4\n"
     ]
    }
   ],
   "source": [
    "daug_kvadratu(5, 3, 12, 4, 7, 8, 3, 2)"
   ]
  },
  {
   "attachments": {},
   "cell_type": "markdown",
   "metadata": {},
   "source": [
    "## args/kwargs"
   ]
  },
  {
   "cell_type": "code",
   "execution_count": 48,
   "metadata": {},
   "outputs": [],
   "source": [
    "def sumuojam(*args):\n",
    "    suma = 0\n",
    "    for skaicius in args:\n",
    "        suma = skaicius\n",
    "    return suma   "
   ]
  },
  {
   "cell_type": "code",
   "execution_count": 49,
   "metadata": {},
   "outputs": [
    {
     "data": {
      "text/plain": [
       "-44"
      ]
     },
     "execution_count": 49,
     "metadata": {},
     "output_type": "execute_result"
    }
   ],
   "source": [
    "sumuojam(2, 3, 5, 4, -7, -44)"
   ]
  },
  {
   "cell_type": "code",
   "execution_count": 50,
   "metadata": {},
   "outputs": [
    {
     "data": {
      "text/plain": [
       "2"
      ]
     },
     "execution_count": 50,
     "metadata": {},
     "output_type": "execute_result"
    }
   ],
   "source": [
    "sumuojam(3, 2)"
   ]
  },
  {
   "cell_type": "code",
   "execution_count": 60,
   "metadata": {},
   "outputs": [],
   "source": [
    "def darbuotojas(**kwargs):\n",
    "    for savybe, reiksme in kwargs.items():\n",
    "        print(f\"{savybe}: {reiksme}\")"
   ]
  },
  {
   "cell_type": "code",
   "execution_count": 62,
   "metadata": {},
   "outputs": [
    {
     "name": "stdout",
     "output_type": "stream",
     "text": [
      "vardas: kestutis\n",
      "pavarde: januskevicius\n",
      "amzius: 39\n",
      "pareigos: destitojas\n"
     ]
    }
   ],
   "source": [
    "darbuotojas(vardas=\"kestutis\", pavarde=\"januskevicius\", amzius=39, pareigos=\"destitojas\")"
   ]
  },
  {
   "cell_type": "code",
   "execution_count": 3,
   "metadata": {},
   "outputs": [],
   "source": [
    "def zmogus(vardas, pavarde, amzius=0, **kwargs):   #=0 nebutinas\n",
    "    print(f\"vardas: {vardas}\")\n",
    "    print(f\"pavarde: {pavarde}\")\n",
    "    if amzius > 0:\n",
    "        print(f\"amzius: {amzius}\")\n",
    "        for savybe, reiksme in kwargs.items():\n",
    "            print(f\"{savybe}: {reiksme}\")"
   ]
  },
  {
   "cell_type": "code",
   "execution_count": 6,
   "metadata": {},
   "outputs": [
    {
     "name": "stdout",
     "output_type": "stream",
     "text": [
      "vardas: geras\n",
      "pavarde: studentas\n",
      "amzius: 25\n",
      "lytis: vyras\n",
      "hobis: skraidyti\n"
     ]
    }
   ],
   "source": [
    "zmogus(\"geras\", \"studentas\", 25, lytis=\"vyras\", hobis=\"skraidyti\")"
   ]
  },
  {
   "cell_type": "code",
   "execution_count": 5,
   "metadata": {},
   "outputs": [
    {
     "name": "stdout",
     "output_type": "stream",
     "text": [
      "vardas: gera\n",
      "pavarde: studente\n"
     ]
    }
   ],
   "source": [
    "zmogus(\"gera\", \"studente\", lytis=\"moteris\", hobis=\"svajoti\")"
   ]
  }
 ],
 "metadata": {
  "kernelspec": {
   "display_name": "venv",
   "language": "python",
   "name": "python3"
  },
  "language_info": {
   "codemirror_mode": {
    "name": "ipython",
    "version": 3
   },
   "file_extension": ".py",
   "mimetype": "text/x-python",
   "name": "python",
   "nbconvert_exporter": "python",
   "pygments_lexer": "ipython3",
   "version": "3.9.1 (tags/v3.9.1:1e5d33e, Dec  7 2020, 17:08:21) [MSC v.1927 64 bit (AMD64)]"
  },
  "orig_nbformat": 4,
  "vscode": {
   "interpreter": {
    "hash": "21087dc93902ca971e09754e69e063779586f614c5ae717553f3f5a9f5000319"
   }
  }
 },
 "nbformat": 4,
 "nbformat_minor": 2
}
