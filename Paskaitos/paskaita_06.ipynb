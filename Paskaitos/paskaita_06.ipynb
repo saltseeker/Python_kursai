{
 "cells": [
  {
   "attachments": {},
   "cell_type": "markdown",
   "metadata": {},
   "source": [
    "## OS Modulis, darbas su katalogais ir failais"
   ]
  },
  {
   "cell_type": "code",
   "execution_count": 2,
   "metadata": {},
   "outputs": [],
   "source": [
    "import os"
   ]
  },
  {
   "cell_type": "code",
   "execution_count": 4,
   "metadata": {},
   "outputs": [
    {
     "name": "stdout",
     "output_type": "stream",
     "text": [
      "['DirEntry', 'F_OK', 'GenericAlias', 'Mapping', 'MutableMapping', 'O_APPEND', 'O_BINARY', 'O_CREAT', 'O_EXCL', 'O_NOINHERIT', 'O_RANDOM', 'O_RDONLY', 'O_RDWR', 'O_SEQUENTIAL', 'O_SHORT_LIVED', 'O_TEMPORARY', 'O_TEXT', 'O_TRUNC', 'O_WRONLY', 'P_DETACH', 'P_NOWAIT', 'P_NOWAITO', 'P_OVERLAY', 'P_WAIT', 'PathLike', 'R_OK', 'SEEK_CUR', 'SEEK_END', 'SEEK_SET', 'TMP_MAX', 'W_OK', 'X_OK', '_AddedDllDirectory', '_Environ', '__all__', '__builtins__', '__cached__', '__doc__', '__file__', '__loader__', '__name__', '__package__', '__spec__', '_check_methods', '_execvpe', '_exists', '_exit', '_fspath', '_get_exports_list', '_walk', '_wrap_close', 'abc', 'abort', 'access', 'add_dll_directory', 'altsep', 'chdir', 'chmod', 'close', 'closerange', 'cpu_count', 'curdir', 'defpath', 'device_encoding', 'devnull', 'dup', 'dup2', 'environ', 'error', 'execl', 'execle', 'execlp', 'execlpe', 'execv', 'execve', 'execvp', 'execvpe', 'extsep', 'fdopen', 'fsdecode', 'fsencode', 'fspath', 'fstat', 'fsync', 'ftruncate', 'get_exec_path', 'get_handle_inheritable', 'get_inheritable', 'get_terminal_size', 'getcwd', 'getcwdb', 'getenv', 'getlogin', 'getpid', 'getppid', 'isatty', 'kill', 'linesep', 'link', 'listdir', 'lseek', 'lstat', 'makedirs', 'mkdir', 'name', 'open', 'pardir', 'path', 'pathsep', 'pipe', 'popen', 'putenv', 'read', 'readlink', 'remove', 'removedirs', 'rename', 'renames', 'replace', 'rmdir', 'scandir', 'sep', 'set_handle_inheritable', 'set_inheritable', 'spawnl', 'spawnle', 'spawnv', 'spawnve', 'st', 'startfile', 'stat', 'stat_result', 'statvfs_result', 'strerror', 'supports_bytes_environ', 'supports_dir_fd', 'supports_effective_ids', 'supports_fd', 'supports_follow_symlinks', 'symlink', 'sys', 'system', 'terminal_size', 'times', 'times_result', 'truncate', 'umask', 'uname_result', 'unlink', 'unsetenv', 'urandom', 'utime', 'waitpid', 'waitstatus_to_exitcode', 'walk', 'write']\n"
     ]
    }
   ],
   "source": [
    "print(dir(os))"
   ]
  },
  {
   "cell_type": "code",
   "execution_count": 5,
   "metadata": {},
   "outputs": [
    {
     "name": "stdout",
     "output_type": "stream",
     "text": [
      "e:\\PTU8\\Pirma_dalis\n"
     ]
    }
   ],
   "source": [
    "print(os.getcwd()) #kur yra python failai"
   ]
  },
  {
   "cell_type": "code",
   "execution_count": 6,
   "metadata": {},
   "outputs": [
    {
     "data": {
      "text/plain": [
       "'e:\\\\PTU8\\\\Pirma_dalis'"
      ]
     },
     "execution_count": 6,
     "metadata": {},
     "output_type": "execute_result"
    }
   ],
   "source": [
    "BASEDIR = os.getcwd()\n",
    "BASEDIR"
   ]
  },
  {
   "cell_type": "code",
   "execution_count": 7,
   "metadata": {},
   "outputs": [
    {
     "name": "stdout",
     "output_type": "stream",
     "text": [
      "e:\\PTU8\n"
     ]
    }
   ],
   "source": [
    "os.chdir(\"..\")          #per viena folderi atgal\n",
    "print(os.getcwd())"
   ]
  },
  {
   "cell_type": "code",
   "execution_count": 8,
   "metadata": {},
   "outputs": [
    {
     "name": "stdout",
     "output_type": "stream",
     "text": [
      "e:\\PTU8\\Pirma_dalis\n"
     ]
    }
   ],
   "source": [
    "os.chdir(BASEDIR)         #frizta i pradini folderi\n",
    "print(os.getcwd())"
   ]
  },
  {
   "cell_type": "code",
   "execution_count": 9,
   "metadata": {},
   "outputs": [
    {
     "name": "stdout",
     "output_type": "stream",
     "text": [
      "['.git', '.gitignore', '123.py', '3.txt', 'amzius1.py', 'amzius2.py', 'begalinis.py', 'import_this.py', 'kalkuliatorius.py', 'klaida.py', 'labas.py', 'matematika.py', 'mat_funkcijos.py', 'mat_funkcijos2.py', 'paieska.py', 'paieska2.py', 'paskaita04.ipynb', 'paskaita_06.ipynb', 'Paskaitos', 'primitive_ui.py', 'pusryciai.py', 'spargalke.py', 'teest.py', 'test.ipynb', 'test.py', 'test2.py', 'test3.py', 'test4.py', 'test5.py', 'test6.py', 'testo.py', 'testtest.py', 'uzduotys', 'uzduotys.ipynb', 'uzduotys2', 'uzduotys3', 'uzduotys4', 'venv']\n"
     ]
    }
   ],
   "source": [
    "print(os.listdir())       #parodo kokie yra failai kataloge"
   ]
  },
  {
   "cell_type": "code",
   "execution_count": 14,
   "metadata": {},
   "outputs": [],
   "source": [
    "os.mkdir(\"media\")   # sukuria folderi \\\\ mkdir kuria viena kataloga"
   ]
  },
  {
   "cell_type": "code",
   "execution_count": 17,
   "metadata": {},
   "outputs": [
    {
     "ename": "FileExistsError",
     "evalue": "[WinError 183] Cannot create a file when that file already exists: 'media/txt/'",
     "output_type": "error",
     "traceback": [
      "\u001b[1;31m---------------------------------------------------------------------------\u001b[0m",
      "\u001b[1;31mFileExistsError\u001b[0m                           Traceback (most recent call last)",
      "Cell \u001b[1;32mIn[17], line 1\u001b[0m\n\u001b[1;32m----> 1\u001b[0m os\u001b[39m.\u001b[39;49mmakedirs(\u001b[39m\"\u001b[39;49m\u001b[39mmedia/txt/\u001b[39;49m\u001b[39m\"\u001b[39;49m)   \u001b[39m# sukuria txt kataloge\u001b[39;00m\n",
      "File \u001b[1;32m~\\AppData\\Local\\Programs\\Python\\Python39\\lib\\os.py:225\u001b[0m, in \u001b[0;36mmakedirs\u001b[1;34m(name, mode, exist_ok)\u001b[0m\n\u001b[0;32m    223\u001b[0m         \u001b[39mreturn\u001b[39;00m\n\u001b[0;32m    224\u001b[0m \u001b[39mtry\u001b[39;00m:\n\u001b[1;32m--> 225\u001b[0m     mkdir(name, mode)\n\u001b[0;32m    226\u001b[0m \u001b[39mexcept\u001b[39;00m \u001b[39mOSError\u001b[39;00m:\n\u001b[0;32m    227\u001b[0m     \u001b[39m# Cannot rely on checking for EEXIST, since the operating system\u001b[39;00m\n\u001b[0;32m    228\u001b[0m     \u001b[39m# could give priority to other errors like EACCES or EROFS\u001b[39;00m\n\u001b[0;32m    229\u001b[0m     \u001b[39mif\u001b[39;00m \u001b[39mnot\u001b[39;00m exist_ok \u001b[39mor\u001b[39;00m \u001b[39mnot\u001b[39;00m path\u001b[39m.\u001b[39misdir(name):\n",
      "\u001b[1;31mFileExistsError\u001b[0m: [WinError 183] Cannot create a file when that file already exists: 'media/txt/'"
     ]
    }
   ],
   "source": [
    "os.makedirs(\"media/txt/\")   # sukuria txt kataloge \\\\ "
   ]
  },
  {
   "cell_type": "code",
   "execution_count": 18,
   "metadata": {},
   "outputs": [
    {
     "data": {
      "text/plain": [
       "os.stat_result(st_mode=16895, st_ino=15481123719086179, st_dev=3356885080, st_nlink=1, st_uid=0, st_gid=0, st_size=8192, st_atime=1672123805, st_mtime=1672123513, st_ctime=1671435681)"
      ]
     },
     "execution_count": 18,
     "metadata": {},
     "output_type": "execute_result"
    }
   ],
   "source": [
    "os.stat('.')"
   ]
  },
  {
   "cell_type": "code",
   "execution_count": 21,
   "metadata": {},
   "outputs": [
    {
     "data": {
      "text/plain": [
       "8147"
      ]
     },
     "execution_count": 21,
     "metadata": {},
     "output_type": "execute_result"
    }
   ],
   "source": [
    "os.stat(\"paskaita_06.ipynb\").st_size  #parodo failo dyddi"
   ]
  },
  {
   "cell_type": "code",
   "execution_count": 22,
   "metadata": {},
   "outputs": [],
   "source": [
    "from datetime import datetime"
   ]
  },
  {
   "cell_type": "code",
   "execution_count": 26,
   "metadata": {},
   "outputs": [
    {
     "data": {
      "text/plain": [
       "datetime.datetime(2022, 12, 27, 8, 55, 3, 446954)"
      ]
     },
     "execution_count": 26,
     "metadata": {},
     "output_type": "execute_result"
    }
   ],
   "source": [
    "sukurta = os.stat('paskaita_06.ipynb').st_atime #kada redeguota\n",
    "datetime.fromtimestamp(sukurta)"
   ]
  },
  {
   "cell_type": "code",
   "execution_count": 28,
   "metadata": {},
   "outputs": [
    {
     "data": {
      "text/plain": [
       "datetime.datetime(2022, 12, 27, 8, 29, 9, 126463)"
      ]
     },
     "execution_count": 28,
     "metadata": {},
     "output_type": "execute_result"
    }
   ],
   "source": [
    "sukurta = os.stat('paskaita_06.ipynb').st_ctime   # sukurta kada\n",
    "datetime.fromtimestamp(sukurta)"
   ]
  },
  {
   "cell_type": "code",
   "execution_count": 32,
   "metadata": {},
   "outputs": [
    {
     "name": "stdout",
     "output_type": "stream",
     "text": [
      "os.stat_result(st_mode=16895, st_ino=21110623253304554, st_dev=3356885080, st_nlink=1, st_uid=0, st_gid=0, st_size=0, st_atime=1672124729, st_mtime=1672124684, st_ctime=1672124684)\n"
     ]
    }
   ],
   "source": [
    "try:\n",
    "    info = os.stat('media/katalogas')\n",
    "except FileNotFoundError:\n",
    "    os.makedirs(\"media/katalogas\")\n",
    "    info = os.stat(\"media/katalogas\")\n",
    "finally:\n",
    "    print(info)"
   ]
  },
  {
   "attachments": {},
   "cell_type": "markdown",
   "metadata": {},
   "source": [
    "## Tekstiniu failu skaitymas/rasymas"
   ]
  },
  {
   "cell_type": "code",
   "execution_count": 33,
   "metadata": {},
   "outputs": [],
   "source": [
    "#atidarom faila rasymui || geriau nenaudoti\n",
    "\n",
    "failas = open('media/labas.txt', 'w')\n",
    "failas.write('Sveiki studentai!')\n",
    "#jeigu cia kur nors butu klaida, kuri pakabintu python, failas patampa nepasiekiamas\n",
    "failas.close()"
   ]
  },
  {
   "cell_type": "code",
   "execution_count": 80,
   "metadata": {},
   "outputs": [],
   "source": [
    "with open('media/labas.txt', \"w\") as failas:       #sukuri ir irasai\n",
    "    failas.write(\"Labas rytas is naujo!\\n\")\n",
    "    failas.write('kaip sekas\\n')"
   ]
  },
  {
   "cell_type": "code",
   "execution_count": 81,
   "metadata": {},
   "outputs": [
    {
     "name": "stdout",
     "output_type": "stream",
     "text": [
      "Labas rytas is naujo!\n",
      "kaip sekas\n",
      "\n"
     ]
    }
   ],
   "source": [
    "with open('media/labas.txt', \"r\") as skaitomas:       #perskaitai kas tame txt\n",
    "    tekstas = skaitomas.read()\n",
    "print(tekstas)    \n"
   ]
  },
  {
   "cell_type": "code",
   "execution_count": 48,
   "metadata": {},
   "outputs": [],
   "source": [
    "with open(\"media/labas.txt\", 'a') as papildomas:     #prideda teksta \n",
    "    papildomas.write('kokia grazi diena\\n')"
   ]
  },
  {
   "cell_type": "code",
   "execution_count": 62,
   "metadata": {},
   "outputs": [
    {
     "name": "stdout",
     "output_type": "stream",
     "text": [
      "Super metai tuoj\n",
      "Lietuviskas reikalas, ﾅｾiurim ar veikia...\n",
      "\n",
      "---\n",
      "Super metai tuoj\n",
      "Lietuviskas reikalas, ﾅｾiurim ar veikia...\n",
      "Pagerinam prie to pacio ta pati faila\n",
      "\n"
     ]
    }
   ],
   "source": [
    "with open('media/labas.txt', \"r+\") as failas:\n",
    "    senas = failas.read()\n",
    "    failas.write(\"Pagerinam prie to pacio ta pati faila\\n\")\n",
    "    failas.seek(0)    #kad griztu kursorius ir galima butu perskaityt nuo  pradziu\n",
    "    naujas = failas.read()\n",
    "print(senas)    \n",
    "print('---')\n",
    "print(naujas)"
   ]
  },
  {
   "cell_type": "code",
   "execution_count": 65,
   "metadata": {},
   "outputs": [
    {
     "name": "stdout",
     "output_type": "stream",
     "text": [
      "Super metai tuoj\n",
      "Lietuviskas reikalas, ﾅｾiurim ar veikia...\n",
      "Pagerinam prie to pacio ta pati faila\n",
      "\n"
     ]
    }
   ],
   "source": [
    "with open('media/labas.txt', \"r+\") as failas:   #r+ atidaro faila pradzioje\n",
    "    failas.write('Super')\n",
    "    failas.seek(0)    #nuo kurios simbolio pradeti rasyti\n",
    "    naujas = failas.read()\n",
    "print(naujas)    \n"
   ]
  },
  {
   "cell_type": "code",
   "execution_count": 67,
   "metadata": {},
   "outputs": [
    {
     "name": "stdout",
     "output_type": "stream",
     "text": [
      "Super metai tuoj\n",
      "Lietuviskas reikalas, žiurim ar veikia...\n",
      "Pagerinam prie to pacio ta pati faila\n",
      "Lietuviskas reikalas, žiurim ar veikia...\n",
      "Lietuviskas reikalas, žiurim ar veikia...\n",
      "\n"
     ]
    }
   ],
   "source": [
    "with open('media/labas.txt', \"a+\", encoding='utf-8') as pridedmas:    #a+ atidaro skaitymui ir rasymui faila pabaigoje  #  encoding='utf-8' leidzia lietuviskas raides\n",
    "    pridedmas.write('Lietuviskas reikalas, žiurim ar veikia...\\n')\n",
    "    pridedmas.seek(0)\n",
    "    atnaujintas = pridedmas.read()\n",
    "print(atnaujintas)\n"
   ]
  },
  {
   "cell_type": "code",
   "execution_count": 56,
   "metadata": {},
   "outputs": [
    {
     "name": "stdout",
     "output_type": "stream",
     "text": [
      "nauji metai tuoj\n",
      "\n"
     ]
    }
   ],
   "source": [
    "with open('media/labas.txt', \"w+\") as failas:   # w+ atidaro faila skaitymui ir rasymui, jo turini sunaikina\n",
    "    failas.write('nauji metai tuoj\\n')\n",
    "    failas.seek(0)\n",
    "    naujas = failas.read()\n",
    "print(naujas)    "
   ]
  },
  {
   "cell_type": "code",
   "execution_count": 74,
   "metadata": {},
   "outputs": [
    {
     "name": "stdout",
     "output_type": "stream",
     "text": [
      "Lietuviskas reikalas, ﾅｾiurim ar veikia...\n",
      "\n"
     ]
    }
   ],
   "source": [
    "with open('media/labas.txt', 'r') as failas:\n",
    "    eilutes = failas.readlines()\n",
    "print(eilutes[1])    # nurorai kuria eilute perskaityti"
   ]
  },
  {
   "cell_type": "code",
   "execution_count": 73,
   "metadata": {},
   "outputs": [
    {
     "name": "stdout",
     "output_type": "stream",
     "text": [
      "0 Super metai tuoj\n",
      "1 Lietuviskas reikalas, ﾅｾiurim ar veikia...\n",
      "2 Pagerinam prie to pacio ta pati faila\n",
      "3 Lietuviskas reikalas, ﾅｾiurim ar veikia...\n",
      "4 Lietuviskas reikalas, ﾅｾiurim ar veikia...\n"
     ]
    }
   ],
   "source": [
    "with open('media/labas.txt', 'r') as failas:\n",
    "    for numeris, eilute in enumerate(failas):\n",
    "        print(numeris, eilute, end=\"\" )"
   ]
  },
  {
   "attachments": {},
   "cell_type": "markdown",
   "metadata": {},
   "source": [
    "## copy-paste"
   ]
  },
  {
   "cell_type": "code",
   "execution_count": 76,
   "metadata": {},
   "outputs": [
    {
     "name": "stdout",
     "output_type": "stream",
     "text": [
      "Super metai tuoj\n",
      "Lietuviskas reikalas, ﾅｾiurim ar veikia...\n",
      "Pagerinam prie to pacio ta pati faila\n",
      "Lietuviskas reikalas, ﾅｾiurim ar veikia...\n",
      "Lietuviskas reikalas, ﾅｾiurim ar veikia...\n"
     ]
    }
   ],
   "source": [
    "with open('media/labas.txt','r') as skaitomas:\n",
    "    with open('media/kopija.txt', 'w') as rasomas:\n",
    "        rasomas.write(skaitomas.read())\n",
    "\n",
    "with open('media/kopija.txt', 'r')  as tikrinamas:\n",
    "    for eilute in tikrinamas: \n",
    "        print(eilute, end=\"\")    \n"
   ]
  },
  {
   "cell_type": "code",
   "execution_count": 79,
   "metadata": {},
   "outputs": [],
   "source": [
    "with open(\"media/download.png\", \"rb\") as skaitomas:  #nukopujavo faila\n",
    "    with open(\"media/goofle_kaledos.png\", \"wb\") as rasomas:\n",
    "        for eilute in skaitomas:\n",
    "            rasomas.write(eilute)"
   ]
  },
  {
   "attachments": {},
   "cell_type": "markdown",
   "metadata": {},
   "source": [
    "## pickle failai"
   ]
  },
  {
   "cell_type": "code",
   "execution_count": 1,
   "metadata": {},
   "outputs": [],
   "source": [
    "import pickle\n"
   ]
  },
  {
   "cell_type": "code",
   "execution_count": 6,
   "metadata": {},
   "outputs": [],
   "source": [
    "#sukuriam faila neperskaitoma zmogui\n",
    "\n",
    "skaicius = 2 ** 16                       \n",
    "with open('media/skaicius.pkl', 'wb') as agurkas:\n",
    "    pickle.dump(skaicius, agurkas)"
   ]
  },
  {
   "cell_type": "code",
   "execution_count": 7,
   "metadata": {},
   "outputs": [
    {
     "name": "stdout",
     "output_type": "stream",
     "text": [
      "65536 <class 'int'>\n"
     ]
    }
   ],
   "source": [
    "#perskaito sukurta pkl file\n",
    "\n",
    "with open('media/skaicius.pkl', 'rb') as agurkas:\n",
    "    agurkinis_skaicius = pickle.load(agurkas)\n",
    "print(agurkinis_skaicius, type(agurkinis_skaicius))    "
   ]
  },
  {
   "cell_type": "code",
   "execution_count": 10,
   "metadata": {},
   "outputs": [],
   "source": [
    "from datetime import datetime\n",
    "dabar = datetime.now()\n",
    "tekstas = input(\"ivekite ka norite: \")\n",
    "with open('media/miksas.pkl', 'wb') as agurkas:\n",
    "    pickle.dump(skaicius, agurkas)\n",
    "    pickle.dump(dabar, agurkas)\n",
    "    pickle.dump(tekstas, agurkas)"
   ]
  },
  {
   "cell_type": "code",
   "execution_count": 16,
   "metadata": {},
   "outputs": [
    {
     "name": "stdout",
     "output_type": "stream",
     "text": [
      "65536 labas 2022-12-28 10:28:40.975590\n"
     ]
    }
   ],
   "source": [
    "with open('media/miksas.pkl', 'rb') as agurkas:\n",
    "    kint1 = pickle.load(agurkas)\n",
    "    kint2 = pickle.load(agurkas)\n",
    "    kint3 = pickle.load(agurkas)\n",
    "print(kint1, kint3, kint2)    \n"
   ]
  },
  {
   "cell_type": "code",
   "execution_count": 18,
   "metadata": {},
   "outputs": [],
   "source": [
    "from random import randint\n",
    "sarasas = [randint(100, 999) for __ in range(100)]\n",
    "with open('media/random_100.pkl', 'wb') as agurkas:\n",
    "    pickle.dump(sarasas, agurkas)"
   ]
  },
  {
   "cell_type": "code",
   "execution_count": 19,
   "metadata": {},
   "outputs": [
    {
     "name": "stdout",
     "output_type": "stream",
     "text": [
      "[514, 851, 707, 496, 451, 611, 883, 149, 250, 885, 804, 392, 414, 498, 713, 277, 322, 797, 624, 319, 150, 173, 987, 805, 388, 731, 907, 194, 731, 829, 224, 787, 831, 544, 104, 558, 215, 936, 405, 873, 170, 297, 387, 513, 736, 676, 685, 106, 951, 710, 566, 302, 518, 456, 611, 104, 326, 237, 560, 107, 569, 407, 276, 209, 237, 130, 805, 929, 854, 127, 739, 685, 269, 927, 319, 685, 296, 258, 812, 730, 197, 389, 817, 764, 302, 754, 416, 463, 804, 371, 285, 985, 543, 723, 142, 282, 530, 301, 673, 613]\n"
     ]
    }
   ],
   "source": [
    "with open('media/random_100.pkl', \"rb\") as agurkas:\n",
    "    loterija = pickle.load(agurkas)\n",
    "print(loterija)    "
   ]
  },
  {
   "cell_type": "code",
   "execution_count": 21,
   "metadata": {},
   "outputs": [
    {
     "name": "stdout",
     "output_type": "stream",
     "text": [
      "{'vardas': 'geras', 'pavarde': 'studentas', 'gimimo data': datetime.datetime(1983, 3, 19, 0, 0), 'lytis': 'vyras', 'ar_linksmas': True, 'atlyginimas': 11.11}\n"
     ]
    }
   ],
   "source": [
    "from datetime import date\n",
    "\n",
    "zmogus = {\n",
    "    \"vardas\": \"geras\",\n",
    "    \"pavarde\": \"studentas\",\n",
    "    \"gimimo data\": datetime(1983, 3, 19),\n",
    "    \"lytis\": \"vyras\",\n",
    "    \"ar_linksmas\": True,\n",
    "    \"atlyginimas\": 11.11,\n",
    "}\n",
    "print(zmogus)\n",
    "with open('media/geras.pkl', \"wb\") as agurkas:\n",
    "    pickle.dump(zmogus, agurkas)"
   ]
  },
  {
   "cell_type": "code",
   "execution_count": 26,
   "metadata": {},
   "outputs": [
    {
     "name": "stdout",
     "output_type": "stream",
     "text": [
      "{'vardas': 'geras', 'pavarde': 'studentas', 'gimimo data': datetime.datetime(1983, 3, 19, 0, 0), 'lytis': 'vyras', 'ar_linksmas': True, 'atlyginimas': 512}\n"
     ]
    }
   ],
   "source": [
    "with open('media/geras.pkl', \"rb\") as agurkas:\n",
    "    padaras = pickle.load(agurkas)\n",
    "print(padaras)    \n",
    "#pakeicia tik atlyginima\n",
    "padaras[\"atlyginimas\"] = randint(0, 1000)\n",
    "with open(\"media/geras.pkl\", \"wb\") as agurkas:\n",
    "    pickle.dump(padaras, agurkas)   "
   ]
  },
  {
   "cell_type": "code",
   "execution_count": null,
   "metadata": {},
   "outputs": [],
   "source": []
  }
 ],
 "metadata": {
  "kernelspec": {
   "display_name": "venv",
   "language": "python",
   "name": "python3"
  },
  "language_info": {
   "codemirror_mode": {
    "name": "ipython",
    "version": 3
   },
   "file_extension": ".py",
   "mimetype": "text/x-python",
   "name": "python",
   "nbconvert_exporter": "python",
   "pygments_lexer": "ipython3",
   "version": "3.9.1 (tags/v3.9.1:1e5d33e, Dec  7 2020, 17:08:21) [MSC v.1927 64 bit (AMD64)]"
  },
  "orig_nbformat": 4,
  "vscode": {
   "interpreter": {
    "hash": "21087dc93902ca971e09754e69e063779586f614c5ae717553f3f5a9f5000319"
   }
  }
 },
 "nbformat": 4,
 "nbformat_minor": 2
}
