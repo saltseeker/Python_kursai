{
 "cells": [
  {
   "attachments": {},
   "cell_type": "markdown",
   "metadata": {},
   "source": [
    "## objektai"
   ]
  },
  {
   "cell_type": "code",
   "execution_count": 1,
   "metadata": {},
   "outputs": [],
   "source": [
    "class kate:\n",
    "    vardas = \"\"\n",
    "    spalva = \"\"    # nereikia jei __init__ nurodita || Self yra privaloma kiekvienam\n",
    "    kojos = 0          #statines reiksmes\n",
    "    amzius = 0\n",
    "\n",
    "    def __init__(self, vardas, spalva=\"Juoda\", kojos=4) -> None:   # ->None   nurodo koki funkcijo kintamaji grazins, nebutinas siou atveju\n",
    "        self.spalva = spalva                               #init paima is funkcijos ne is klases\n",
    "        self.kojos = kojos                                   #standartines reiksmes, galima keisti kitose eilutese\n",
    "        self.vardas = vardas                                 #dinamines reiksmes\n",
    "        self.anzius = 0\n",
    "\n",
    "    def miaukseti(self):\n",
    "        print(\"miau\")\n",
    "\n",
    "    def _judinti_kojas(self, kaip=\"\"):                                 # __ vidines funkcijos\n",
    "        return kaip\n",
    "\n",
    "    def _ziureti(self, kur=\"tiesiai\"):\n",
    "        return kur\n",
    "\n",
    "    def begti(self, kryptis=\"tiesiai\", judesys=\"\"):\n",
    "        kaip = self._judinti_kojas(judesys)\n",
    "        kur = self._ziureti(kryptis)\n",
    "        if kaip:\n",
    "            print(f\"begu {kaip} {kur}\")\n",
    "        else:\n",
    "            print(f\"begu {kur}\")\n",
    "    \n",
    "    def susilauzyti_koja(self, kiek=1):\n",
    "        self.kojos -= kiek\n",
    "\n",
    "    def sugydyti_koja(self, kiek=1):\n",
    "        self.kojos += kiek\n",
    "\n",
    "    def __str__(self) -> str:\n",
    "        return f\"vardas: {self.vardas}, spalva: {self.spalva}, kojos: {self.kojos}, amzius: {self.amzius}\"    # sukuri stringa. iskvieti su objektu siuo atveju \"miauklius\"\n",
    "\n",
    "    def __repr__(self) -> str:\n",
    "        return f\"({self.vardas}, {self.spalva}, {self.kojos})\""
   ]
  },
  {
   "cell_type": "code",
   "execution_count": 2,
   "metadata": {},
   "outputs": [
    {
     "name": "stdout",
     "output_type": "stream",
     "text": [
      "vardas: miauklius, spalva: Juoda, kojos: 4, amzius = 0\n",
      "incidentas: 0\n",
      "vardas: miauklius, spalva: Juoda, kojos: 3, amzius: 5\n",
      "incidentas: 1\n",
      "vardas: miauklius, spalva: Juoda, kojos: 2, amzius: 5\n",
      "incidentas: 2\n",
      "vardas: miauklius, spalva: Juoda, kojos: 1, amzius: 5\n",
      "incidentas: 3\n",
      "vardas: miauklius, spalva: Juoda, kojos: 0, amzius: 5\n",
      "vardas: miauklius, spalva: Juoda, kojos: 2, amzius: 5\n",
      "miau\n",
      "begu tiesiai\n",
      "begu i kaire\n",
      "begu suoliais ant lovos\n",
      "tiesiai\n"
     ]
    }
   ],
   "source": [
    "miauklius = kate(\"miauklius\")\n",
    "print(f\"vardas: {miauklius.vardas}, spalva: {miauklius.spalva}, kojos: {miauklius.kojos}, amzius = {miauklius.amzius}\")  # senas varijantas be __str__\n",
    "miauklius.amzius = 5  # pakeiciam globalia reiksmia\n",
    "for incidentas in range(4):\n",
    "    print(f\"incidentas: {incidentas}\")\n",
    "    miauklius.susilauzyti_koja()\n",
    "    print(miauklius)\n",
    "miauklius.sugydyti_koja(2) \n",
    "print(miauklius)\n",
    "miauklius.miaukseti()\n",
    "miauklius.begti()\n",
    "miauklius.begti(\"i kaire\")\n",
    "miauklius.begti(\"ant lovos\", \"suoliais\")\n",
    "print(miauklius._ziureti())\n",
    "\n",
    "\n"
   ]
  },
  {
   "cell_type": "code",
   "execution_count": 3,
   "metadata": {},
   "outputs": [
    {
     "data": {
      "text/plain": [
       "'Juoda'"
      ]
     },
     "execution_count": 3,
     "metadata": {},
     "output_type": "execute_result"
    }
   ],
   "source": [
    "miauklius.spalva"
   ]
  },
  {
   "cell_type": "code",
   "execution_count": 4,
   "metadata": {},
   "outputs": [
    {
     "data": {
      "text/plain": [
       "2"
      ]
     },
     "execution_count": 4,
     "metadata": {},
     "output_type": "execute_result"
    }
   ],
   "source": [
    "miauklius.kojos"
   ]
  },
  {
   "cell_type": "code",
   "execution_count": 5,
   "metadata": {},
   "outputs": [
    {
     "ename": "TypeError",
     "evalue": "__init__() missing 1 required positional argument: 'vardas'",
     "output_type": "error",
     "traceback": [
      "\u001b[1;31m---------------------------------------------------------------------------\u001b[0m",
      "\u001b[1;31mTypeError\u001b[0m                                 Traceback (most recent call last)",
      "Cell \u001b[1;32mIn[5], line 1\u001b[0m\n\u001b[1;32m----> 1\u001b[0m rudis \u001b[39m=\u001b[39m kate()\n\u001b[0;32m      2\u001b[0m rudis\u001b[39m.\u001b[39mspalva \u001b[39m=\u001b[39m \u001b[39m\"\u001b[39m\u001b[39mrudas\u001b[39m\u001b[39m\"\u001b[39m                       \u001b[39m#pakeicia spalva\u001b[39;00m\n\u001b[0;32m      3\u001b[0m \u001b[39mprint\u001b[39m(rudis\u001b[39m.\u001b[39mspalva, rudis\u001b[39m.\u001b[39mkojos)\n",
      "\u001b[1;31mTypeError\u001b[0m: __init__() missing 1 required positional argument: 'vardas'"
     ]
    }
   ],
   "source": [
    "rudis = kate()\n",
    "rudis.spalva = \"rudas\"                       #pakeicia spalva\n",
    "print(rudis.spalva, rudis.kojos)"
   ]
  },
  {
   "cell_type": "code",
   "execution_count": 6,
   "metadata": {},
   "outputs": [
    {
     "name": "stdout",
     "output_type": "stream",
     "text": [
      "4 4\n",
      "miau\n"
     ]
    }
   ],
   "source": [
    "pilkis = kate(\"pilkas\", 4)\n",
    "print(pilkis.spalva, pilkis.kojos)\n",
    "pilkis.miaukseti()"
   ]
  },
  {
   "cell_type": "code",
   "execution_count": 7,
   "metadata": {},
   "outputs": [
    {
     "data": {
      "text/plain": [
       "__main__.kate"
      ]
     },
     "execution_count": 7,
     "metadata": {},
     "output_type": "execute_result"
    }
   ],
   "source": [
    "type(pilkis)"
   ]
  },
  {
   "cell_type": "code",
   "execution_count": 8,
   "metadata": {},
   "outputs": [
    {
     "data": {
      "text/plain": [
       "datetime.date"
      ]
     },
     "execution_count": 8,
     "metadata": {},
     "output_type": "execute_result"
    }
   ],
   "source": [
    "from datetime import date\n",
    "dabar = date.today()\n",
    "type(dabar)"
   ]
  },
  {
   "cell_type": "code",
   "execution_count": 9,
   "metadata": {},
   "outputs": [
    {
     "name": "stdout",
     "output_type": "stream",
     "text": [
      "<class 'str'>\n",
      "0x1c5f40905d0\n",
      "['labas', 'rytas,', 'studentai']\n",
      "LABAS RYTAS, STUDENTAI\n"
     ]
    }
   ],
   "source": [
    "pasisveikinimas = \"labas rytas, studentai\"\n",
    "print(type(pasisveikinimas))\n",
    "print(hex(id(pasisveikinimas)))\n",
    "print(pasisveikinimas.split())\n",
    "print(pasisveikinimas.upper())"
   ]
  },
  {
   "cell_type": "code",
   "execution_count": 10,
   "metadata": {},
   "outputs": [
    {
     "data": {
      "text/plain": [
       "'777'"
      ]
     },
     "execution_count": 10,
     "metadata": {},
     "output_type": "execute_result"
    }
   ],
   "source": [
    "skaicius = 777\n",
    "tekstas = str(skaicius)\n",
    "tekstas"
   ]
  },
  {
   "cell_type": "code",
   "execution_count": 11,
   "metadata": {},
   "outputs": [],
   "source": [
    "kates = []\n"
   ]
  },
  {
   "cell_type": "code",
   "execution_count": 12,
   "metadata": {},
   "outputs": [],
   "source": [
    "kates.append(kate(\"Pirma\"))"
   ]
  },
  {
   "cell_type": "code",
   "execution_count": 13,
   "metadata": {},
   "outputs": [],
   "source": [
    "kates.append(kate(\"Pilke\", \"pilka\"))"
   ]
  },
  {
   "cell_type": "code",
   "execution_count": 14,
   "metadata": {},
   "outputs": [],
   "source": [
    "kates.append(kate(\"kiauras\", \"permatoma\", 19))"
   ]
  },
  {
   "cell_type": "code",
   "execution_count": 15,
   "metadata": {},
   "outputs": [
    {
     "name": "stdout",
     "output_type": "stream",
     "text": [
      "vardas: Pirma, spalva: Juoda, kojos: 4, amzius: 0\n",
      "vardas: Pilke, spalva: pilka, kojos: 4, amzius: 0\n",
      "vardas: kiauras, spalva: permatoma, kojos: 19, amzius: 0\n"
     ]
    }
   ],
   "source": [
    "for kate in kates:\n",
    "    print(kate)"
   ]
  },
  {
   "cell_type": "code",
   "execution_count": 16,
   "metadata": {},
   "outputs": [
    {
     "name": "stdout",
     "output_type": "stream",
     "text": [
      "[(Pirma, Juoda, 4), (Pilke, pilka, 4), (kiauras, permatoma, 19)]\n"
     ]
    }
   ],
   "source": [
    "print(kates)"
   ]
  }
 ],
 "metadata": {
  "kernelspec": {
   "display_name": "venv",
   "language": "python",
   "name": "python3"
  },
  "language_info": {
   "codemirror_mode": {
    "name": "ipython",
    "version": 3
   },
   "file_extension": ".py",
   "mimetype": "text/x-python",
   "name": "python",
   "nbconvert_exporter": "python",
   "pygments_lexer": "ipython3",
   "version": "3.9.1 (tags/v3.9.1:1e5d33e, Dec  7 2020, 17:08:21) [MSC v.1927 64 bit (AMD64)]"
  },
  "orig_nbformat": 4,
  "vscode": {
   "interpreter": {
    "hash": "21087dc93902ca971e09754e69e063779586f614c5ae717553f3f5a9f5000319"
   }
  }
 },
 "nbformat": 4,
 "nbformat_minor": 2
}
