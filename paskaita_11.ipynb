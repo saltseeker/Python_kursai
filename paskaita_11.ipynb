{
 "cells": [
  {
   "attachments": {},
   "cell_type": "markdown",
   "metadata": {},
   "source": [
    "## paveldejimas\n"
   ]
  },
  {
   "cell_type": "code",
   "execution_count": 37,
   "metadata": {},
   "outputs": [],
   "source": [
    "class Gyvunas:\n",
    "    def __init__(self, vardas: str, spalva: str, kojos: int, amzius=0):\n",
    "        self.vardas = vardas\n",
    "        self.spalva = spalva\n",
    "        self.kojos = kojos\n",
    "        self.amzius = amzius\n",
    "\n",
    "\n",
    "\n",
    "    def __str__(self) -> str:\n",
    "        return f\"{self.__class__.__name__} {self.vardas}, spalva: {self.spalva}, {self.kojos} - kojos, {self.amzius} metu\"\n",
    "\n",
    "    def begti(self):\n",
    "        print(\"begu\")     "
   ]
  },
  {
   "cell_type": "code",
   "execution_count": 9,
   "metadata": {},
   "outputs": [
    {
     "name": "stdout",
     "output_type": "stream",
     "text": [
      "Gyvunas turbo, spalva: Zalias, 4 - kojis, 3 metu\n",
      "begu\n"
     ]
    }
   ],
   "source": [
    "vezlys = Gyvunas(\"turbo\", \"Zalias\", 4, 3)\n",
    "print(vezlys)\n",
    "vezlys.begti()"
   ]
  },
  {
   "cell_type": "code",
   "execution_count": 5,
   "metadata": {},
   "outputs": [],
   "source": [
    "class Kate(Gyvunas):\n",
    "    def miaukti(self):\n",
    "        print(\"miau\")"
   ]
  },
  {
   "cell_type": "code",
   "execution_count": 39,
   "metadata": {},
   "outputs": [
    {
     "name": "stdout",
     "output_type": "stream",
     "text": [
      "Kate Murklys, spalva: juoda, 4 - kojis, 22 metu\n",
      "miau\n",
      "begu\n"
     ]
    }
   ],
   "source": [
    "murklys = Kate(\"Murklys\", \"juoda\", 4, 22)\n",
    "print(murklys)\n",
    "murklys.miaukti()\n",
    "murklys.begti()"
   ]
  },
  {
   "cell_type": "code",
   "execution_count": 20,
   "metadata": {},
   "outputs": [],
   "source": [
    "class Vezlys(Gyvunas):\n",
    "    def begti(self):\n",
    "        print(\"Einu letai. ai ne, \", end= \"\")\n",
    "        super().begti()\n",
    "\n",
    "    \n",
    "    def __init__(self, vardas: str, spalva: str, kojos=4, amzius=0, namo_turis_mm3=400):\n",
    "        super().__init__(vardas, spalva, kojos, amzius)  \n",
    "        self.namo_turis_mm3 = namo_turis_mm3"
   ]
  },
  {
   "cell_type": "code",
   "execution_count": 28,
   "metadata": {},
   "outputs": [
    {
     "name": "stdout",
     "output_type": "stream",
     "text": [
      "Vezlys turbo, spalva: zalias, 4 - kojis, 3 metu\n",
      "Einu letai. ai ne, begu\n",
      "namo turis: 600 mm3\n"
     ]
    }
   ],
   "source": [
    "vezlys = Vezlys(\"turbo\", \"zalias\", amzius=3, namo_turis_mm3=600)\n",
    "print(vezlys)\n",
    "vezlys.begti()\n",
    "print(\"namo turis:\", vezlys.namo_turis_mm3, \"mm3\")"
   ]
  },
  {
   "cell_type": "code",
   "execution_count": 31,
   "metadata": {},
   "outputs": [],
   "source": [
    "class Voras(Gyvunas):\n",
    "    def begti(self):\n",
    "        print(\"ropoju\")\n",
    "\n",
    "    def __init__(self, vardas: str, spalva: str, kojos=6, amzius=0):\n",
    "        super().__init__(vardas, spalva, kojos, amzius)     "
   ]
  },
  {
   "cell_type": "code",
   "execution_count": 32,
   "metadata": {},
   "outputs": [
    {
     "name": "stdout",
     "output_type": "stream",
     "text": [
      "Voras Musinis siaubas, spalva: juodas, 6 - kojis, 0 metu\n",
      "ropoju\n"
     ]
    }
   ],
   "source": [
    "musinis = Voras(\"Musinis siaubas\", \"juodas\")\n",
    "print(musinis)\n",
    "musinis.begti()"
   ]
  }
 ],
 "metadata": {
  "kernelspec": {
   "display_name": "venv",
   "language": "python",
   "name": "python3"
  },
  "language_info": {
   "codemirror_mode": {
    "name": "ipython",
    "version": 3
   },
   "file_extension": ".py",
   "mimetype": "text/x-python",
   "name": "python",
   "nbconvert_exporter": "python",
   "pygments_lexer": "ipython3",
   "version": "3.9.1 (tags/v3.9.1:1e5d33e, Dec  7 2020, 17:08:21) [MSC v.1927 64 bit (AMD64)]"
  },
  "orig_nbformat": 4,
  "vscode": {
   "interpreter": {
    "hash": "21087dc93902ca971e09754e69e063779586f614c5ae717553f3f5a9f5000319"
   }
  }
 },
 "nbformat": 4,
 "nbformat_minor": 2
}
